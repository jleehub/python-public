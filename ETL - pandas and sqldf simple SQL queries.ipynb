{
 "cells": [
  {
   "cell_type": "code",
   "execution_count": 4,
   "id": "9e88516a",
   "metadata": {},
   "outputs": [
    {
     "name": "stdout",
     "output_type": "stream",
     "text": [
      "                         date  births\n",
      "0  1975-01-01 00:00:00.000000  265775\n",
      "1  1975-03-01 00:00:00.000000  268849\n",
      "2  1975-05-01 00:00:00.000000  254545\n",
      "3  1975-06-01 00:00:00.000000  254096\n",
      "4  1975-07-01 00:00:00.000000  275163\n"
     ]
    }
   ],
   "source": [
    "# importing packages and loading 'load_births' sample dataset\n",
    "import pandas as pd\n",
    "from pandasql import sqldf, load_births\n",
    "\n",
    "births = load_births()\n",
    "\n",
    "print(sqldf(\"select * from births where births > 250000 limit 5;\", locals()))"
   ]
  },
  {
   "cell_type": "code",
   "execution_count": 9,
   "id": "df1256e6",
   "metadata": {},
   "outputs": [
    {
     "name": "stdout",
     "output_type": "stream",
     "text": [
      "          dob  total_births\n",
      "0  1975-01-01        265775\n",
      "1  1975-02-01        241045\n",
      "2  1975-03-01        268849\n",
      "3  1975-04-01        247455\n",
      "4  1975-05-01        254545\n",
      "5  1975-06-01        254096\n",
      "6  1975-07-01        275163\n",
      "7  1975-08-01        281300\n",
      "8  1975-09-01        270738\n",
      "9  1975-10-01        265494\n"
     ]
    }
   ],
   "source": [
    "# simple query to sum births grouped by DOB using sqldf\n",
    "query = \"\"\"\n",
    "            select\n",
    "                date(date) as dob,\n",
    "                sum(births) as total_births\n",
    "            from\n",
    "                births\n",
    "            group by 1\n",
    "            order by 1\n",
    "            limit 10;\n",
    "        \"\"\"\n",
    "print(sqldf(query, locals()))"
   ]
  },
  {
   "cell_type": "code",
   "execution_count": 8,
   "id": "31d326cd",
   "metadata": {},
   "outputs": [
    {
     "name": "stdout",
     "output_type": "stream",
     "text": [
      "                         date  births\n",
      "0  1975-01-01 00:00:00.000000  265775\n"
     ]
    }
   ],
   "source": [
    "# simple query to view columns and headers in the births table\n",
    "headerquery = \"\"\"\n",
    "select * from births limit 1;\n",
    "\"\"\"\n",
    "\n",
    "print(sqldf(headerquery,locals()))"
   ]
  },
  {
   "cell_type": "code",
   "execution_count": 10,
   "id": "d0749eb2",
   "metadata": {},
   "outputs": [],
   "source": [
    "# create a function to reduce keystrokes when calling the query + locals/globals. globals can easily be replaced with locals, vice versa\n",
    "def pysqldf(query):\n",
    "    return sqldf(query, globals())"
   ]
  },
  {
   "cell_type": "code",
   "execution_count": 11,
   "id": "a1fa2014",
   "metadata": {},
   "outputs": [
    {
     "name": "stdout",
     "output_type": "stream",
     "text": [
      "          dob  total_births\n",
      "0  1975-01-01        265775\n",
      "1  1975-02-01        241045\n",
      "2  1975-03-01        268849\n",
      "3  1975-04-01        247455\n",
      "4  1975-05-01        254545\n",
      "5  1975-06-01        254096\n",
      "6  1975-07-01        275163\n",
      "7  1975-08-01        281300\n",
      "8  1975-09-01        270738\n",
      "9  1975-10-01        265494\n"
     ]
    }
   ],
   "source": [
    "# demonstrate calling the above function with print\n",
    "print(pysqldf(query))"
   ]
  },
  {
   "cell_type": "code",
   "execution_count": 1,
   "id": "d8639ad6",
   "metadata": {},
   "outputs": [
    {
     "data": {
      "text/plain": [
       "'C:\\\\Users\\\\Justin\\\\Documents\\\\Python'"
      ]
     },
     "execution_count": 1,
     "metadata": {},
     "output_type": "execute_result"
    }
   ],
   "source": [
    "pwd"
   ]
  }
 ],
 "metadata": {
  "kernelspec": {
   "display_name": "Python 3",
   "language": "python",
   "name": "python3"
  },
  "language_info": {
   "codemirror_mode": {
    "name": "ipython",
    "version": 3
   },
   "file_extension": ".py",
   "mimetype": "text/x-python",
   "name": "python",
   "nbconvert_exporter": "python",
   "pygments_lexer": "ipython3",
   "version": "3.8.8"
  }
 },
 "nbformat": 4,
 "nbformat_minor": 5
}
