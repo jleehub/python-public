{
 "cells": [
  {
   "cell_type": "markdown",
   "metadata": {},
   "source": [
    "<center>\n",
    "    <img src=\"https://gitlab.com/ibm/skills-network/courses/placeholder101/-/raw/master/labs/module%201/images/IDSNlogo.png\" width=\"300\" alt=\"cognitiveclass.ai logo\"  />\n",
    "</center>\n"
   ]
  },
  {
   "cell_type": "markdown",
   "metadata": {},
   "source": [
    "# Peer Review Assignment - Data Engineer - Webscraping\n"
   ]
  },
  {
   "cell_type": "markdown",
   "metadata": {},
   "source": [
    "Estimated time needed: **20** minutes\n"
   ]
  },
  {
   "cell_type": "markdown",
   "metadata": {},
   "source": [
    "## Objectives\n",
    "\n",
    "In this part you will:\n",
    "\n",
    "-   Use webscraping to get bank information\n"
   ]
  },
  {
   "cell_type": "markdown",
   "metadata": {},
   "source": [
    "For this lab, we are going to be using Python and several Python libraries. Some of these libraries might be installed in your lab environment or in SN Labs. Others may need to be installed by you. The cells below will install these libraries when executed.\n",
    "\n",
    "## Scenario\n",
    "For this project, you will assume the role of data engineer working for an international financial analysis company. Your company tracks stock prices, commodities, forex rates, inflation rates.  Your job is to extract financial data from various sources like websites, APIs and files provided by various financial analysis firms. After you collect the data, you extract the data of interest to your company and transform it based on the requirements given to you. Once the transformation is complete you load that data into a database.\n",
    "\n",
    "## Project Tasks\n",
    "In this project you will:\n",
    "\n",
    "1. Collect data using APIs\n",
    "1. Collect data using webscraping.\n",
    "1. Download files to process.    \n",
    "1. Read csv, xml and json file types.\n",
    "1. Extract data from the above file types.\n",
    "1. Transform data.\n",
    "1. Use the built-in logging module.\n",
    "1. Save the transformed data in a ready-to-load format which data engineers can use to load the data."
   ]
  },
  {
   "cell_type": "markdown",
   "metadata": {},
   "source": [
    "## Imports\n",
    "\n",
    "Import any additional libraries you may need here.\n"
   ]
  },
  {
   "cell_type": "code",
   "execution_count": 3,
   "metadata": {},
   "outputs": [],
   "source": [
    "from bs4 import BeautifulSoup\n",
    "import requests\n",
    "import pandas as pd"
   ]
  },
  {
   "cell_type": "markdown",
   "metadata": {},
   "source": [
    "## Extract Data Using Web Scraping\n"
   ]
  },
  {
   "cell_type": "markdown",
   "metadata": {},
   "source": [
    "The wikipedia webpage [https://en.wikipedia.org/wiki/List_of_largest_banks](https://en.wikipedia.org/wiki/List_of_largest_banks?cm_mmc=Email_Newsletter-_-Developer_Ed%2BTech-_-WW_WW-_-SkillsNetwork-Courses-IBMDeveloperSkillsNetwork-PY0221EN-SkillsNetwork-23455645&cm_mmca1=000026UJ&cm_mmca2=10006555&cm_mmca3=M12345678&cvosrc=email.Newsletter.M12345678&cvo_campaign=000026UJ&cm_mmc=Email_Newsletter-_-Developer_Ed%2BTech-_-WW_WW-_-SkillsNetwork-Courses-IBMDeveloperSkillsNetwork-PY0221EN-SkillsNetwork-23455645&cm_mmca1=000026UJ&cm_mmca2=10006555&cm_mmca3=M12345678&cvosrc=email.Newsletter.M12345678&cvo_campaign=000026UJ) provides information about largest banks in the world by various parameters. Scrape the data from the table 'By market capitalization' and store it in a JSON file.\n"
   ]
  },
  {
   "cell_type": "markdown",
   "metadata": {},
   "source": [
    "### Webpage Contents\n",
    "\n",
    "Gather the contents of the webpage in text format using the `requests` library and assign it to the variable <code>html_data</code>\n"
   ]
  },
  {
   "cell_type": "code",
   "execution_count": 4,
   "metadata": {},
   "outputs": [
    {
     "name": "stdout",
     "output_type": "stream",
     "text": [
      "200\n"
     ]
    }
   ],
   "source": [
    "response = requests.get(url=\"https://en.wikipedia.org/wiki/List_of_largest_banks\")\n",
    "print(response.status_code)"
   ]
  },
  {
   "cell_type": "code",
   "execution_count": null,
   "metadata": {},
   "outputs": [],
   "source": [
    "#Write your code here\n",
    "html_data = response.text"
   ]
  },
  {
   "cell_type": "markdown",
   "metadata": {},
   "source": [
    "<b>Question 1</b> Print out the output of the following line, and remember it as it will be a quiz question:\n"
   ]
  },
  {
   "cell_type": "code",
   "execution_count": null,
   "metadata": {},
   "outputs": [],
   "source": [
    "print(html_data[101:124])"
   ]
  },
  {
   "cell_type": "markdown",
   "metadata": {},
   "source": [
    "### Scraping the Data\n",
    "\n",
    "<b> Question 2</b> Using the contents and `beautiful soup` load the data from the `By market capitalization` table into a `pandas` dataframe. The dataframe should have the country `Name` and `Market Cap (US$ Billion)` as column names.  Display the first five rows using head. \n"
   ]
  },
  {
   "cell_type": "markdown",
   "metadata": {},
   "source": [
    "Using BeautifulSoup parse the contents of the webpage.\n"
   ]
  },
  {
   "cell_type": "code",
   "execution_count": 5,
   "metadata": {},
   "outputs": [],
   "source": [
    "#Replace the dots below\n",
    "soup= BeautifulSoup(response.content, 'html.parser')"
   ]
  },
  {
   "cell_type": "markdown",
   "metadata": {},
   "source": [
    "Load the data from the `By market capitalization` table into a pandas dataframe. The dataframe should have the country `Name` and `Market Cap (US$ Billion)` as column names. Using the empty dataframe `data` and the given loop extract the necessary data from each row and append it to the empty dataframe.\n"
   ]
  },
  {
   "cell_type": "code",
   "execution_count": 6,
   "metadata": {},
   "outputs": [
    {
     "name": "stdout",
     "output_type": "stream",
     "text": [
      "[<tr>\n",
      "<th data-sort-type=\"number\">Rank\n",
      "</th>\n",
      "<th>Bank name\n",
      "</th>\n",
      "<th>Market cap<br/>(US$ billion)\n",
      "</th></tr>, <tr>\n",
      "<td>1\n",
      "</td>\n",
      "<td><span class=\"flagicon\"><a href=\"/wiki/United_States\" title=\"United States\"><img alt=\"United States\" class=\"thumbborder\" data-file-height=\"650\" data-file-width=\"1235\" decoding=\"async\" height=\"12\" src=\"//upload.wikimedia.org/wikipedia/en/thumb/a/a4/Flag_of_the_United_States.svg/23px-Flag_of_the_United_States.svg.png\" srcset=\"//upload.wikimedia.org/wikipedia/en/thumb/a/a4/Flag_of_the_United_States.svg/35px-Flag_of_the_United_States.svg.png 1.5x, //upload.wikimedia.org/wikipedia/en/thumb/a/a4/Flag_of_the_United_States.svg/46px-Flag_of_the_United_States.svg.png 2x\" width=\"23\"/></a></span> <a href=\"/wiki/JPMorgan_Chase\" title=\"JPMorgan Chase\">JPMorgan Chase</a>\n",
      "</td>\n",
      "<td>387.492\n",
      "</td></tr>, <tr>\n",
      "<td>2\n",
      "</td>\n",
      "<td><span class=\"flagicon\"><a href=\"/wiki/China\" title=\"China\"><img alt=\"China\" class=\"thumbborder\" data-file-height=\"600\" data-file-width=\"900\" decoding=\"async\" height=\"15\" src=\"//upload.wikimedia.org/wikipedia/commons/thumb/f/fa/Flag_of_the_People%27s_Republic_of_China.svg/23px-Flag_of_the_People%27s_Republic_of_China.svg.png\" srcset=\"//upload.wikimedia.org/wikipedia/commons/thumb/f/fa/Flag_of_the_People%27s_Republic_of_China.svg/35px-Flag_of_the_People%27s_Republic_of_China.svg.png 1.5x, //upload.wikimedia.org/wikipedia/commons/thumb/f/fa/Flag_of_the_People%27s_Republic_of_China.svg/45px-Flag_of_the_People%27s_Republic_of_China.svg.png 2x\" width=\"23\"/></a></span> <a href=\"/wiki/Industrial_and_Commercial_Bank_of_China\" title=\"Industrial and Commercial Bank of China\">Industrial and Commercial Bank of China</a>\n",
      "</td>\n",
      "<td>345.214\n",
      "</td></tr>, <tr>\n",
      "<td>3\n",
      "</td>\n",
      "<td><span class=\"flagicon\"><a href=\"/wiki/United_States\" title=\"United States\"><img alt=\"United States\" class=\"thumbborder\" data-file-height=\"650\" data-file-width=\"1235\" decoding=\"async\" height=\"12\" src=\"//upload.wikimedia.org/wikipedia/en/thumb/a/a4/Flag_of_the_United_States.svg/23px-Flag_of_the_United_States.svg.png\" srcset=\"//upload.wikimedia.org/wikipedia/en/thumb/a/a4/Flag_of_the_United_States.svg/35px-Flag_of_the_United_States.svg.png 1.5x, //upload.wikimedia.org/wikipedia/en/thumb/a/a4/Flag_of_the_United_States.svg/46px-Flag_of_the_United_States.svg.png 2x\" width=\"23\"/></a></span> <a href=\"/wiki/Bank_of_America\" title=\"Bank of America\">Bank of America</a>\n",
      "</td>\n",
      "<td>325.331\n",
      "</td></tr>, <tr>\n",
      "<td>4\n",
      "</td>\n",
      "<td><span class=\"flagicon\"><a href=\"/wiki/United_States\" title=\"United States\"><img alt=\"United States\" class=\"thumbborder\" data-file-height=\"650\" data-file-width=\"1235\" decoding=\"async\" height=\"12\" src=\"//upload.wikimedia.org/wikipedia/en/thumb/a/a4/Flag_of_the_United_States.svg/23px-Flag_of_the_United_States.svg.png\" srcset=\"//upload.wikimedia.org/wikipedia/en/thumb/a/a4/Flag_of_the_United_States.svg/35px-Flag_of_the_United_States.svg.png 1.5x, //upload.wikimedia.org/wikipedia/en/thumb/a/a4/Flag_of_the_United_States.svg/46px-Flag_of_the_United_States.svg.png 2x\" width=\"23\"/></a></span> <a href=\"/wiki/Wells_Fargo\" title=\"Wells Fargo\">Wells Fargo</a>\n",
      "</td>\n",
      "<td>308.013\n",
      "</td></tr>, <tr>\n",
      "<td>5\n",
      "</td>\n",
      "<td><span class=\"flagicon\"><a href=\"/wiki/China\" title=\"China\"><img alt=\"China\" class=\"thumbborder\" data-file-height=\"600\" data-file-width=\"900\" decoding=\"async\" height=\"15\" src=\"//upload.wikimedia.org/wikipedia/commons/thumb/f/fa/Flag_of_the_People%27s_Republic_of_China.svg/23px-Flag_of_the_People%27s_Republic_of_China.svg.png\" srcset=\"//upload.wikimedia.org/wikipedia/commons/thumb/f/fa/Flag_of_the_People%27s_Republic_of_China.svg/35px-Flag_of_the_People%27s_Republic_of_China.svg.png 1.5x, //upload.wikimedia.org/wikipedia/commons/thumb/f/fa/Flag_of_the_People%27s_Republic_of_China.svg/45px-Flag_of_the_People%27s_Republic_of_China.svg.png 2x\" width=\"23\"/></a></span> <a href=\"/wiki/China_Construction_Bank\" title=\"China Construction Bank\">China Construction Bank</a>\n",
      "</td>\n",
      "<td>257.399\n",
      "</td></tr>, <tr>\n",
      "<td>6\n",
      "</td>\n",
      "<td><span class=\"flagicon\"><a href=\"/wiki/United_Kingdom\" title=\"United Kingdom\"><img alt=\"United Kingdom\" class=\"thumbborder\" data-file-height=\"600\" data-file-width=\"1200\" decoding=\"async\" height=\"12\" src=\"//upload.wikimedia.org/wikipedia/en/thumb/a/ae/Flag_of_the_United_Kingdom.svg/23px-Flag_of_the_United_Kingdom.svg.png\" srcset=\"//upload.wikimedia.org/wikipedia/en/thumb/a/ae/Flag_of_the_United_Kingdom.svg/35px-Flag_of_the_United_Kingdom.svg.png 1.5x, //upload.wikimedia.org/wikipedia/en/thumb/a/ae/Flag_of_the_United_Kingdom.svg/46px-Flag_of_the_United_Kingdom.svg.png 2x\" width=\"23\"/></a></span> <a href=\"/wiki/HSBC\" title=\"HSBC\">HSBC Holdings PLC</a>\n",
      "</td>\n",
      "<td>219.270\n",
      "</td></tr>, <tr>\n",
      "<td>7\n",
      "</td>\n",
      "<td><span class=\"flagicon\"><a href=\"/wiki/China\" title=\"China\"><img alt=\"China\" class=\"thumbborder\" data-file-height=\"600\" data-file-width=\"900\" decoding=\"async\" height=\"15\" src=\"//upload.wikimedia.org/wikipedia/commons/thumb/f/fa/Flag_of_the_People%27s_Republic_of_China.svg/23px-Flag_of_the_People%27s_Republic_of_China.svg.png\" srcset=\"//upload.wikimedia.org/wikipedia/commons/thumb/f/fa/Flag_of_the_People%27s_Republic_of_China.svg/35px-Flag_of_the_People%27s_Republic_of_China.svg.png 1.5x, //upload.wikimedia.org/wikipedia/commons/thumb/f/fa/Flag_of_the_People%27s_Republic_of_China.svg/45px-Flag_of_the_People%27s_Republic_of_China.svg.png 2x\" width=\"23\"/></a></span> <a href=\"/wiki/Agricultural_Bank_of_China\" title=\"Agricultural Bank of China\">Agricultural Bank of China</a>\n",
      "</td>\n",
      "<td>203.244\n",
      "</td></tr>, <tr>\n",
      "<td>8\n",
      "</td>\n",
      "<td><span class=\"flagicon\"><a href=\"/wiki/United_States\" title=\"United States\"><img alt=\"United States\" class=\"thumbborder\" data-file-height=\"650\" data-file-width=\"1235\" decoding=\"async\" height=\"12\" src=\"//upload.wikimedia.org/wikipedia/en/thumb/a/a4/Flag_of_the_United_States.svg/23px-Flag_of_the_United_States.svg.png\" srcset=\"//upload.wikimedia.org/wikipedia/en/thumb/a/a4/Flag_of_the_United_States.svg/35px-Flag_of_the_United_States.svg.png 1.5x, //upload.wikimedia.org/wikipedia/en/thumb/a/a4/Flag_of_the_United_States.svg/46px-Flag_of_the_United_States.svg.png 2x\" width=\"23\"/></a></span> <a href=\"/wiki/Citigroup\" title=\"Citigroup\">Citigroup Inc.</a>\n",
      "</td>\n",
      "<td>203.165\n",
      "</td></tr>, <tr>\n",
      "<td>9\n",
      "</td>\n",
      "<td><span class=\"flagicon\"><a href=\"/wiki/China\" title=\"China\"><img alt=\"China\" class=\"thumbborder\" data-file-height=\"600\" data-file-width=\"900\" decoding=\"async\" height=\"15\" src=\"//upload.wikimedia.org/wikipedia/commons/thumb/f/fa/Flag_of_the_People%27s_Republic_of_China.svg/23px-Flag_of_the_People%27s_Republic_of_China.svg.png\" srcset=\"//upload.wikimedia.org/wikipedia/commons/thumb/f/fa/Flag_of_the_People%27s_Republic_of_China.svg/35px-Flag_of_the_People%27s_Republic_of_China.svg.png 1.5x, //upload.wikimedia.org/wikipedia/commons/thumb/f/fa/Flag_of_the_People%27s_Republic_of_China.svg/45px-Flag_of_the_People%27s_Republic_of_China.svg.png 2x\" width=\"23\"/></a></span> <a href=\"/wiki/Bank_of_China\" title=\"Bank of China\">Bank of China</a>\n",
      "</td>\n",
      "<td>181.469\n",
      "</td></tr>, <tr>\n",
      "<td>10\n",
      "</td>\n",
      "<td><span class=\"flagicon\"><a href=\"/wiki/China\" title=\"China\"><img alt=\"China\" class=\"thumbborder\" data-file-height=\"600\" data-file-width=\"900\" decoding=\"async\" height=\"15\" src=\"//upload.wikimedia.org/wikipedia/commons/thumb/f/fa/Flag_of_the_People%27s_Republic_of_China.svg/23px-Flag_of_the_People%27s_Republic_of_China.svg.png\" srcset=\"//upload.wikimedia.org/wikipedia/commons/thumb/f/fa/Flag_of_the_People%27s_Republic_of_China.svg/35px-Flag_of_the_People%27s_Republic_of_China.svg.png 1.5x, //upload.wikimedia.org/wikipedia/commons/thumb/f/fa/Flag_of_the_People%27s_Republic_of_China.svg/45px-Flag_of_the_People%27s_Republic_of_China.svg.png 2x\" width=\"23\"/></a></span> <a href=\"/wiki/China_Merchants_Bank\" title=\"China Merchants Bank\">China Merchants Bank</a>\n",
      "</td>\n",
      "<td>122.616\n",
      "</td></tr>, <tr>\n",
      "<td>11\n",
      "</td>\n",
      "<td><span class=\"flagicon\"><a href=\"/wiki/Canada\" title=\"Canada\"><img alt=\"Canada\" class=\"thumbborder\" data-file-height=\"600\" data-file-width=\"1200\" decoding=\"async\" height=\"12\" src=\"//upload.wikimedia.org/wikipedia/commons/thumb/d/d9/Flag_of_Canada_%28Pantone%29.svg/23px-Flag_of_Canada_%28Pantone%29.svg.png\" srcset=\"//upload.wikimedia.org/wikipedia/commons/thumb/d/d9/Flag_of_Canada_%28Pantone%29.svg/35px-Flag_of_Canada_%28Pantone%29.svg.png 1.5x, //upload.wikimedia.org/wikipedia/commons/thumb/d/d9/Flag_of_Canada_%28Pantone%29.svg/46px-Flag_of_Canada_%28Pantone%29.svg.png 2x\" width=\"23\"/></a></span> <a href=\"/wiki/Royal_Bank_of_Canada\" title=\"Royal Bank of Canada\">Royal Bank of Canada</a>\n",
      "</td>\n",
      "<td>122.564\n",
      "</td></tr>, <tr>\n",
      "<td>12\n",
      "</td>\n",
      "<td><span class=\"flagicon\"><a href=\"/wiki/Spain\" title=\"Spain\"><img alt=\"Spain\" class=\"thumbborder\" data-file-height=\"500\" data-file-width=\"750\" decoding=\"async\" height=\"15\" src=\"//upload.wikimedia.org/wikipedia/en/thumb/9/9a/Flag_of_Spain.svg/23px-Flag_of_Spain.svg.png\" srcset=\"//upload.wikimedia.org/wikipedia/en/thumb/9/9a/Flag_of_Spain.svg/35px-Flag_of_Spain.svg.png 1.5x, //upload.wikimedia.org/wikipedia/en/thumb/9/9a/Flag_of_Spain.svg/45px-Flag_of_Spain.svg.png 2x\" width=\"23\"/></a></span> <a href=\"/wiki/Banco_Santander\" title=\"Banco Santander\">Banco Santander</a>\n",
      "</td>\n",
      "<td>115.696\n",
      "</td></tr>, <tr>\n",
      "<td>13\n",
      "</td>\n",
      "<td><span class=\"flagicon\"><a href=\"/wiki/Australia\" title=\"Australia\"><img alt=\"Australia\" class=\"thumbborder\" data-file-height=\"640\" data-file-width=\"1280\" decoding=\"async\" height=\"12\" src=\"//upload.wikimedia.org/wikipedia/commons/thumb/8/88/Flag_of_Australia_%28converted%29.svg/23px-Flag_of_Australia_%28converted%29.svg.png\" srcset=\"//upload.wikimedia.org/wikipedia/commons/thumb/8/88/Flag_of_Australia_%28converted%29.svg/35px-Flag_of_Australia_%28converted%29.svg.png 1.5x, //upload.wikimedia.org/wikipedia/commons/thumb/8/88/Flag_of_Australia_%28converted%29.svg/46px-Flag_of_Australia_%28converted%29.svg.png 2x\" width=\"23\"/></a></span> <a href=\"/wiki/Commonwealth_Bank\" title=\"Commonwealth Bank\">Commonwealth Bank</a>\n",
      "</td>\n",
      "<td>112.227\n",
      "</td></tr>, <tr>\n",
      "<td>14\n",
      "</td>\n",
      "<td><span class=\"flagicon\"><a href=\"/wiki/Japan\" title=\"Japan\"><img alt=\"Japan\" class=\"thumbborder\" data-file-height=\"600\" data-file-width=\"900\" decoding=\"async\" height=\"15\" src=\"//upload.wikimedia.org/wikipedia/en/thumb/9/9e/Flag_of_Japan.svg/23px-Flag_of_Japan.svg.png\" srcset=\"//upload.wikimedia.org/wikipedia/en/thumb/9/9e/Flag_of_Japan.svg/35px-Flag_of_Japan.svg.png 1.5x, //upload.wikimedia.org/wikipedia/en/thumb/9/9e/Flag_of_Japan.svg/45px-Flag_of_Japan.svg.png 2x\" width=\"23\"/></a></span> <a href=\"/wiki/Mitsubishi_UFJ_Financial_Group\" title=\"Mitsubishi UFJ Financial Group\">Mitsubishi UFJ Financial Group</a>\n",
      "</td>\n",
      "<td>111.660\n",
      "</td></tr>, <tr>\n",
      "<td>15\n",
      "</td>\n",
      "<td><span class=\"flagicon\"><a href=\"/wiki/Canada\" title=\"Canada\"><img alt=\"Canada\" class=\"thumbborder\" data-file-height=\"600\" data-file-width=\"1200\" decoding=\"async\" height=\"12\" src=\"//upload.wikimedia.org/wikipedia/commons/thumb/d/d9/Flag_of_Canada_%28Pantone%29.svg/23px-Flag_of_Canada_%28Pantone%29.svg.png\" srcset=\"//upload.wikimedia.org/wikipedia/commons/thumb/d/d9/Flag_of_Canada_%28Pantone%29.svg/35px-Flag_of_Canada_%28Pantone%29.svg.png 1.5x, //upload.wikimedia.org/wikipedia/commons/thumb/d/d9/Flag_of_Canada_%28Pantone%29.svg/46px-Flag_of_Canada_%28Pantone%29.svg.png 2x\" width=\"23\"/></a></span> <a href=\"/wiki/Toronto-Dominion_Bank\" title=\"Toronto-Dominion Bank\">Toronto-Dominion Bank</a>\n",
      "</td>\n",
      "<td>108.449\n",
      "</td></tr>, <tr>\n",
      "<td>16\n",
      "</td>\n",
      "<td><span class=\"flagicon\"><a href=\"/wiki/India\" title=\"India\"><img alt=\"India\" class=\"thumbborder\" data-file-height=\"900\" data-file-width=\"1350\" decoding=\"async\" height=\"15\" src=\"//upload.wikimedia.org/wikipedia/en/thumb/4/41/Flag_of_India.svg/23px-Flag_of_India.svg.png\" srcset=\"//upload.wikimedia.org/wikipedia/en/thumb/4/41/Flag_of_India.svg/35px-Flag_of_India.svg.png 1.5x, //upload.wikimedia.org/wikipedia/en/thumb/4/41/Flag_of_India.svg/45px-Flag_of_India.svg.png 2x\" width=\"23\"/></a></span> <a href=\"/wiki/HDFC_Bank\" title=\"HDFC Bank\">HDFC Bank</a>\n",
      "</td>\n",
      "<td><a class=\"external text\" href=\"https://www.bloomberg.com/quote/HDB:US\" rel=\"nofollow\">134.4</a>\n",
      "</td></tr>, <tr>\n",
      "<td>17\n",
      "</td>\n",
      "<td><span class=\"flagicon\"><a href=\"/wiki/United_States\" title=\"United States\"><img alt=\"United States\" class=\"thumbborder\" data-file-height=\"650\" data-file-width=\"1235\" decoding=\"async\" height=\"12\" src=\"//upload.wikimedia.org/wikipedia/en/thumb/a/a4/Flag_of_the_United_States.svg/23px-Flag_of_the_United_States.svg.png\" srcset=\"//upload.wikimedia.org/wikipedia/en/thumb/a/a4/Flag_of_the_United_States.svg/35px-Flag_of_the_United_States.svg.png 1.5x, //upload.wikimedia.org/wikipedia/en/thumb/a/a4/Flag_of_the_United_States.svg/46px-Flag_of_the_United_States.svg.png 2x\" width=\"23\"/></a></span> <a href=\"/wiki/Goldman_Sachs\" title=\"Goldman Sachs\">Goldman Sachs</a>\n",
      "</td>\n",
      "<td>100.705\n",
      "</td></tr>, <tr>\n",
      "<td>18\n",
      "</td>\n",
      "<td><span class=\"flagicon\"><a href=\"/wiki/Russia\" title=\"Russia\"><img alt=\"Russia\" class=\"thumbborder\" data-file-height=\"600\" data-file-width=\"900\" decoding=\"async\" height=\"15\" src=\"//upload.wikimedia.org/wikipedia/en/thumb/f/f3/Flag_of_Russia.svg/23px-Flag_of_Russia.svg.png\" srcset=\"//upload.wikimedia.org/wikipedia/en/thumb/f/f3/Flag_of_Russia.svg/35px-Flag_of_Russia.svg.png 1.5x, //upload.wikimedia.org/wikipedia/en/thumb/f/f3/Flag_of_Russia.svg/45px-Flag_of_Russia.svg.png 2x\" width=\"23\"/></a></span> <a href=\"/wiki/Sberbank_of_Russia\" title=\"Sberbank of Russia\">Sberbank of Russia</a>\n",
      "</td>\n",
      "<td>99.840\n",
      "</td></tr>, <tr>\n",
      "<td>19\n",
      "</td>\n",
      "<td><span class=\"flagicon\"><a href=\"/wiki/United_States\" title=\"United States\"><img alt=\"United States\" class=\"thumbborder\" data-file-height=\"650\" data-file-width=\"1235\" decoding=\"async\" height=\"12\" src=\"//upload.wikimedia.org/wikipedia/en/thumb/a/a4/Flag_of_the_United_States.svg/23px-Flag_of_the_United_States.svg.png\" srcset=\"//upload.wikimedia.org/wikipedia/en/thumb/a/a4/Flag_of_the_United_States.svg/35px-Flag_of_the_United_States.svg.png 1.5x, //upload.wikimedia.org/wikipedia/en/thumb/a/a4/Flag_of_the_United_States.svg/46px-Flag_of_the_United_States.svg.png 2x\" width=\"23\"/></a></span> <a href=\"/wiki/Morgan_Stanley\" title=\"Morgan Stanley\">Morgan Stanley</a>\n",
      "</td>\n",
      "<td>99.651\n",
      "</td></tr>, <tr>\n",
      "<td>20\n",
      "</td>\n",
      "<td><span class=\"flagicon\"><a href=\"/wiki/United_States\" title=\"United States\"><img alt=\"United States\" class=\"thumbborder\" data-file-height=\"650\" data-file-width=\"1235\" decoding=\"async\" height=\"12\" src=\"//upload.wikimedia.org/wikipedia/en/thumb/a/a4/Flag_of_the_United_States.svg/23px-Flag_of_the_United_States.svg.png\" srcset=\"//upload.wikimedia.org/wikipedia/en/thumb/a/a4/Flag_of_the_United_States.svg/35px-Flag_of_the_United_States.svg.png 1.5x, //upload.wikimedia.org/wikipedia/en/thumb/a/a4/Flag_of_the_United_States.svg/46px-Flag_of_the_United_States.svg.png 2x\" width=\"23\"/></a></span> <a href=\"/wiki/U.S._Bancorp\" title=\"U.S. Bancorp\">U.S. Bancorp</a>\n",
      "</td>\n",
      "<td>94.558\n",
      "</td></tr>, <tr>\n",
      "<td>21\n",
      "</td>\n",
      "<td><span class=\"flagicon\"><a href=\"/wiki/France\" title=\"France\"><img alt=\"France\" class=\"thumbborder\" data-file-height=\"600\" data-file-width=\"900\" decoding=\"async\" height=\"15\" src=\"//upload.wikimedia.org/wikipedia/en/thumb/c/c3/Flag_of_France.svg/23px-Flag_of_France.svg.png\" srcset=\"//upload.wikimedia.org/wikipedia/en/thumb/c/c3/Flag_of_France.svg/35px-Flag_of_France.svg.png 1.5x, //upload.wikimedia.org/wikipedia/en/thumb/c/c3/Flag_of_France.svg/45px-Flag_of_France.svg.png 2x\" width=\"23\"/></a></span> <a href=\"/wiki/BNP_Paribas\" title=\"BNP Paribas\">BNP Paribas</a>\n",
      "</td>\n",
      "<td>93.329\n",
      "</td></tr>, <tr>\n",
      "<td>22\n",
      "</td>\n",
      "<td><span class=\"flagicon\"><a href=\"/wiki/Brazil\" title=\"Brazil\"><img alt=\"Brazil\" class=\"thumbborder\" data-file-height=\"504\" data-file-width=\"720\" decoding=\"async\" height=\"15\" src=\"//upload.wikimedia.org/wikipedia/en/thumb/0/05/Flag_of_Brazil.svg/22px-Flag_of_Brazil.svg.png\" srcset=\"//upload.wikimedia.org/wikipedia/en/thumb/0/05/Flag_of_Brazil.svg/33px-Flag_of_Brazil.svg.png 1.5x, //upload.wikimedia.org/wikipedia/en/thumb/0/05/Flag_of_Brazil.svg/43px-Flag_of_Brazil.svg.png 2x\" width=\"22\"/></a></span> <a href=\"/wiki/Ita%C3%BA_Unibanco\" title=\"Itaú Unibanco\">Itaú Unibanco</a>\n",
      "</td>\n",
      "<td>86.203\n",
      "</td></tr>, <tr>\n",
      "<td>23\n",
      "</td>\n",
      "<td><span class=\"flagicon\"><a href=\"/wiki/Australia\" title=\"Australia\"><img alt=\"Australia\" class=\"thumbborder\" data-file-height=\"640\" data-file-width=\"1280\" decoding=\"async\" height=\"12\" src=\"//upload.wikimedia.org/wikipedia/commons/thumb/8/88/Flag_of_Australia_%28converted%29.svg/23px-Flag_of_Australia_%28converted%29.svg.png\" srcset=\"//upload.wikimedia.org/wikipedia/commons/thumb/8/88/Flag_of_Australia_%28converted%29.svg/35px-Flag_of_Australia_%28converted%29.svg.png 1.5x, //upload.wikimedia.org/wikipedia/commons/thumb/8/88/Flag_of_Australia_%28converted%29.svg/46px-Flag_of_Australia_%28converted%29.svg.png 2x\" width=\"23\"/></a></span> <a href=\"/wiki/Westpac\" title=\"Westpac\">Westpac</a>\n",
      "</td>\n",
      "<td>84.560\n",
      "</td></tr>, <tr>\n",
      "<td>24\n",
      "</td>\n",
      "<td><span class=\"flagicon\"><a href=\"/wiki/Canada\" title=\"Canada\"><img alt=\"Canada\" class=\"thumbborder\" data-file-height=\"600\" data-file-width=\"1200\" decoding=\"async\" height=\"12\" src=\"//upload.wikimedia.org/wikipedia/commons/thumb/d/d9/Flag_of_Canada_%28Pantone%29.svg/23px-Flag_of_Canada_%28Pantone%29.svg.png\" srcset=\"//upload.wikimedia.org/wikipedia/commons/thumb/d/d9/Flag_of_Canada_%28Pantone%29.svg/35px-Flag_of_Canada_%28Pantone%29.svg.png 1.5x, //upload.wikimedia.org/wikipedia/commons/thumb/d/d9/Flag_of_Canada_%28Pantone%29.svg/46px-Flag_of_Canada_%28Pantone%29.svg.png 2x\" width=\"23\"/></a></span> <a href=\"/wiki/Scotiabank\" title=\"Scotiabank\">Scotiabank</a>\n",
      "</td>\n",
      "<td>78.947\n",
      "</td></tr>, <tr>\n",
      "<td>25\n",
      "</td>\n",
      "<td><span class=\"flagicon\"><a href=\"/wiki/Netherlands\" title=\"Netherlands\"><img alt=\"Netherlands\" class=\"thumbborder\" data-file-height=\"600\" data-file-width=\"900\" decoding=\"async\" height=\"15\" src=\"//upload.wikimedia.org/wikipedia/commons/thumb/2/20/Flag_of_the_Netherlands.svg/23px-Flag_of_the_Netherlands.svg.png\" srcset=\"//upload.wikimedia.org/wikipedia/commons/thumb/2/20/Flag_of_the_Netherlands.svg/35px-Flag_of_the_Netherlands.svg.png 1.5x, //upload.wikimedia.org/wikipedia/commons/thumb/2/20/Flag_of_the_Netherlands.svg/45px-Flag_of_the_Netherlands.svg.png 2x\" width=\"23\"/></a></span> <a href=\"/wiki/ING_Group\" title=\"ING Group\">ING Group</a>\n",
      "</td>\n",
      "<td>78.920\n",
      "</td></tr>, <tr>\n",
      "<td>26\n",
      "</td>\n",
      "<td><span class=\"flagicon\"><a href=\"/wiki/Switzerland\" title=\"Switzerland\"><img alt=\"Switzerland\" class=\"thumbborder\" data-file-height=\"512\" data-file-width=\"512\" decoding=\"async\" height=\"16\" src=\"//upload.wikimedia.org/wikipedia/commons/thumb/f/f3/Flag_of_Switzerland.svg/16px-Flag_of_Switzerland.svg.png\" srcset=\"//upload.wikimedia.org/wikipedia/commons/thumb/f/f3/Flag_of_Switzerland.svg/24px-Flag_of_Switzerland.svg.png 1.5x, //upload.wikimedia.org/wikipedia/commons/thumb/f/f3/Flag_of_Switzerland.svg/32px-Flag_of_Switzerland.svg.png 2x\" width=\"16\"/></a></span> <a href=\"/wiki/UBS\" title=\"UBS\">UBS</a>\n",
      "</td>\n",
      "<td>75.482\n",
      "</td></tr>, <tr>\n",
      "<td>27\n",
      "</td>\n",
      "<td><span class=\"flagicon\"><a href=\"/wiki/United_States\" title=\"United States\"><img alt=\"United States\" class=\"thumbborder\" data-file-height=\"650\" data-file-width=\"1235\" decoding=\"async\" height=\"12\" src=\"//upload.wikimedia.org/wikipedia/en/thumb/a/a4/Flag_of_the_United_States.svg/23px-Flag_of_the_United_States.svg.png\" srcset=\"//upload.wikimedia.org/wikipedia/en/thumb/a/a4/Flag_of_the_United_States.svg/35px-Flag_of_the_United_States.svg.png 1.5x, //upload.wikimedia.org/wikipedia/en/thumb/a/a4/Flag_of_the_United_States.svg/46px-Flag_of_the_United_States.svg.png 2x\" width=\"23\"/></a></span> <a href=\"/wiki/Charles_Schwab_Corporation\" title=\"Charles Schwab Corporation\">Charles Schwab</a>\n",
      "</td>\n",
      "<td>74.255\n",
      "</td></tr>, <tr>\n",
      "<td>28\n",
      "</td>\n",
      "<td><span class=\"flagicon\"><a href=\"/wiki/United_States\" title=\"United States\"><img alt=\"United States\" class=\"thumbborder\" data-file-height=\"650\" data-file-width=\"1235\" decoding=\"async\" height=\"12\" src=\"//upload.wikimedia.org/wikipedia/en/thumb/a/a4/Flag_of_the_United_States.svg/23px-Flag_of_the_United_States.svg.png\" srcset=\"//upload.wikimedia.org/wikipedia/en/thumb/a/a4/Flag_of_the_United_States.svg/35px-Flag_of_the_United_States.svg.png 1.5x, //upload.wikimedia.org/wikipedia/en/thumb/a/a4/Flag_of_the_United_States.svg/46px-Flag_of_the_United_States.svg.png 2x\" width=\"23\"/></a></span> <a href=\"/wiki/PNC_Financial_Services\" title=\"PNC Financial Services\">PNC Financial Services</a>\n",
      "</td>\n",
      "<td>72.246\n",
      "</td></tr>, <tr>\n",
      "<td>29\n",
      "</td>\n",
      "<td><span class=\"flagicon\"><a href=\"/wiki/United_Kingdom\" title=\"United Kingdom\"><img alt=\"United Kingdom\" class=\"thumbborder\" data-file-height=\"600\" data-file-width=\"1200\" decoding=\"async\" height=\"12\" src=\"//upload.wikimedia.org/wikipedia/en/thumb/a/ae/Flag_of_the_United_Kingdom.svg/23px-Flag_of_the_United_Kingdom.svg.png\" srcset=\"//upload.wikimedia.org/wikipedia/en/thumb/a/ae/Flag_of_the_United_Kingdom.svg/35px-Flag_of_the_United_Kingdom.svg.png 1.5x, //upload.wikimedia.org/wikipedia/en/thumb/a/ae/Flag_of_the_United_Kingdom.svg/46px-Flag_of_the_United_Kingdom.svg.png 2x\" width=\"23\"/></a></span> <a href=\"/wiki/Lloyds_Banking_Group\" title=\"Lloyds Banking Group\">Lloyds Banking Group</a>\n",
      "</td>\n",
      "<td>71.253\n",
      "</td></tr>, <tr>\n",
      "<td>30\n",
      "</td>\n",
      "<td><span class=\"flagicon\"><a href=\"/wiki/Japan\" title=\"Japan\"><img alt=\"Japan\" class=\"thumbborder\" data-file-height=\"600\" data-file-width=\"900\" decoding=\"async\" height=\"15\" src=\"//upload.wikimedia.org/wikipedia/en/thumb/9/9e/Flag_of_Japan.svg/23px-Flag_of_Japan.svg.png\" srcset=\"//upload.wikimedia.org/wikipedia/en/thumb/9/9e/Flag_of_Japan.svg/35px-Flag_of_Japan.svg.png 1.5x, //upload.wikimedia.org/wikipedia/en/thumb/9/9e/Flag_of_Japan.svg/45px-Flag_of_Japan.svg.png 2x\" width=\"23\"/></a></span> <a class=\"mw-redirect\" href=\"/wiki/Sumitomo_Mitsui_Financial_Group\" title=\"Sumitomo Mitsui Financial Group\">Sumitomo Mitsui Financial Group</a>\n",
      "</td>\n",
      "<td>67.328\n",
      "</td></tr>, <tr>\n",
      "<td>31\n",
      "</td>\n",
      "<td><span class=\"flagicon\"><a href=\"/wiki/China\" title=\"China\"><img alt=\"China\" class=\"thumbborder\" data-file-height=\"600\" data-file-width=\"900\" decoding=\"async\" height=\"15\" src=\"//upload.wikimedia.org/wikipedia/commons/thumb/f/fa/Flag_of_the_People%27s_Republic_of_China.svg/23px-Flag_of_the_People%27s_Republic_of_China.svg.png\" srcset=\"//upload.wikimedia.org/wikipedia/commons/thumb/f/fa/Flag_of_the_People%27s_Republic_of_China.svg/35px-Flag_of_the_People%27s_Republic_of_China.svg.png 1.5x, //upload.wikimedia.org/wikipedia/commons/thumb/f/fa/Flag_of_the_People%27s_Republic_of_China.svg/45px-Flag_of_the_People%27s_Republic_of_China.svg.png 2x\" width=\"23\"/></a></span> <a href=\"/wiki/Bank_of_Communications\" title=\"Bank of Communications\">Bank of Communications</a>\n",
      "</td>\n",
      "<td>67.078\n",
      "</td></tr>, <tr>\n",
      "<td>32\n",
      "</td>\n",
      "<td><span class=\"flagicon\"><a href=\"/wiki/Australia\" title=\"Australia\"><img alt=\"Australia\" class=\"thumbborder\" data-file-height=\"640\" data-file-width=\"1280\" decoding=\"async\" height=\"12\" src=\"//upload.wikimedia.org/wikipedia/commons/thumb/8/88/Flag_of_Australia_%28converted%29.svg/23px-Flag_of_Australia_%28converted%29.svg.png\" srcset=\"//upload.wikimedia.org/wikipedia/commons/thumb/8/88/Flag_of_Australia_%28converted%29.svg/35px-Flag_of_Australia_%28converted%29.svg.png 1.5x, //upload.wikimedia.org/wikipedia/commons/thumb/8/88/Flag_of_Australia_%28converted%29.svg/46px-Flag_of_Australia_%28converted%29.svg.png 2x\" width=\"23\"/></a></span> <a href=\"/wiki/Australia_and_New_Zealand_Banking_Group\" title=\"Australia and New Zealand Banking Group\">Australia and New Zealand Banking Group</a>\n",
      "</td>\n",
      "<td>66.448\n",
      "</td></tr>, <tr>\n",
      "<td>33\n",
      "</td>\n",
      "<td><span class=\"flagicon\"><a href=\"/wiki/Brazil\" title=\"Brazil\"><img alt=\"Brazil\" class=\"thumbborder\" data-file-height=\"504\" data-file-width=\"720\" decoding=\"async\" height=\"15\" src=\"//upload.wikimedia.org/wikipedia/en/thumb/0/05/Flag_of_Brazil.svg/22px-Flag_of_Brazil.svg.png\" srcset=\"//upload.wikimedia.org/wikipedia/en/thumb/0/05/Flag_of_Brazil.svg/33px-Flag_of_Brazil.svg.png 1.5x, //upload.wikimedia.org/wikipedia/en/thumb/0/05/Flag_of_Brazil.svg/43px-Flag_of_Brazil.svg.png 2x\" width=\"22\"/></a></span> <a href=\"/wiki/Banco_Bradesco\" title=\"Banco Bradesco\">Banco Bradesco</a>\n",
      "</td>\n",
      "<td>64.816\n",
      "</td></tr>, <tr>\n",
      "<td>34\n",
      "</td>\n",
      "<td><span class=\"flagicon\"><a href=\"/wiki/Australia\" title=\"Australia\"><img alt=\"Australia\" class=\"thumbborder\" data-file-height=\"640\" data-file-width=\"1280\" decoding=\"async\" height=\"12\" src=\"//upload.wikimedia.org/wikipedia/commons/thumb/8/88/Flag_of_Australia_%28converted%29.svg/23px-Flag_of_Australia_%28converted%29.svg.png\" srcset=\"//upload.wikimedia.org/wikipedia/commons/thumb/8/88/Flag_of_Australia_%28converted%29.svg/35px-Flag_of_Australia_%28converted%29.svg.png 1.5x, //upload.wikimedia.org/wikipedia/commons/thumb/8/88/Flag_of_Australia_%28converted%29.svg/46px-Flag_of_Australia_%28converted%29.svg.png 2x\" width=\"23\"/></a></span> <a href=\"/wiki/National_Australia_Bank\" title=\"National Australia Bank\">National Australia Bank</a>\n",
      "</td>\n",
      "<td>63.794\n",
      "</td></tr>, <tr>\n",
      "<td>35\n",
      "</td>\n",
      "<td><span class=\"flagicon\"><a href=\"/wiki/Italy\" title=\"Italy\"><img alt=\"Italy\" class=\"thumbborder\" data-file-height=\"1000\" data-file-width=\"1500\" decoding=\"async\" height=\"15\" src=\"//upload.wikimedia.org/wikipedia/en/thumb/0/03/Flag_of_Italy.svg/23px-Flag_of_Italy.svg.png\" srcset=\"//upload.wikimedia.org/wikipedia/en/thumb/0/03/Flag_of_Italy.svg/35px-Flag_of_Italy.svg.png 1.5x, //upload.wikimedia.org/wikipedia/en/thumb/0/03/Flag_of_Italy.svg/45px-Flag_of_Italy.svg.png 2x\" width=\"23\"/></a></span> <a href=\"/wiki/Intesa_Sanpaolo\" title=\"Intesa Sanpaolo\">Intesa Sanpaolo</a>\n",
      "</td>\n",
      "<td>62.032\n",
      "</td></tr>, <tr>\n",
      "<td>36\n",
      "</td>\n",
      "<td><span class=\"flagicon\"><a href=\"/wiki/Spain\" title=\"Spain\"><img alt=\"Spain\" class=\"thumbborder\" data-file-height=\"500\" data-file-width=\"750\" decoding=\"async\" height=\"15\" src=\"//upload.wikimedia.org/wikipedia/en/thumb/9/9a/Flag_of_Spain.svg/23px-Flag_of_Spain.svg.png\" srcset=\"//upload.wikimedia.org/wikipedia/en/thumb/9/9a/Flag_of_Spain.svg/35px-Flag_of_Spain.svg.png 1.5x, //upload.wikimedia.org/wikipedia/en/thumb/9/9a/Flag_of_Spain.svg/45px-Flag_of_Spain.svg.png 2x\" width=\"23\"/></a></span> <a href=\"/wiki/Banco_Bilbao_Vizcaya_Argentaria\" title=\"Banco Bilbao Vizcaya Argentaria\">Banco Bilbao Vizcaya Argentaria</a>\n",
      "</td>\n",
      "<td>60.678\n",
      "</td></tr>, <tr>\n",
      "<td>37\n",
      "</td>\n",
      "<td><span class=\"flagicon\"><a href=\"/wiki/Japan\" title=\"Japan\"><img alt=\"Japan\" class=\"thumbborder\" data-file-height=\"600\" data-file-width=\"900\" decoding=\"async\" height=\"15\" src=\"//upload.wikimedia.org/wikipedia/en/thumb/9/9e/Flag_of_Japan.svg/23px-Flag_of_Japan.svg.png\" srcset=\"//upload.wikimedia.org/wikipedia/en/thumb/9/9e/Flag_of_Japan.svg/35px-Flag_of_Japan.svg.png 1.5x, //upload.wikimedia.org/wikipedia/en/thumb/9/9e/Flag_of_Japan.svg/45px-Flag_of_Japan.svg.png 2x\" width=\"23\"/></a></span> <a href=\"/wiki/Japan_Post_Bank\" title=\"Japan Post Bank\">Japan Post Bank</a>\n",
      "</td>\n",
      "<td>60.525\n",
      "</td></tr>, <tr>\n",
      "<td>38\n",
      "</td>\n",
      "<td><span class=\"flagicon\"><a href=\"/wiki/United_States\" title=\"United States\"><img alt=\"United States\" class=\"thumbborder\" data-file-height=\"650\" data-file-width=\"1235\" decoding=\"async\" height=\"12\" src=\"//upload.wikimedia.org/wikipedia/en/thumb/a/a4/Flag_of_the_United_States.svg/23px-Flag_of_the_United_States.svg.png\" srcset=\"//upload.wikimedia.org/wikipedia/en/thumb/a/a4/Flag_of_the_United_States.svg/35px-Flag_of_the_United_States.svg.png 1.5x, //upload.wikimedia.org/wikipedia/en/thumb/a/a4/Flag_of_the_United_States.svg/46px-Flag_of_the_United_States.svg.png 2x\" width=\"23\"/></a></span> <a class=\"mw-redirect\" href=\"/wiki/The_Bank_of_New_York_Mellon\" title=\"The Bank of New York Mellon\">The Bank of New York Mellon</a>\n",
      "</td>\n",
      "<td>59.823\n",
      "</td></tr>, <tr>\n",
      "<td>39\n",
      "</td>\n",
      "<td><span class=\"flagicon\"><a href=\"/wiki/China\" title=\"China\"><img alt=\"China\" class=\"thumbborder\" data-file-height=\"600\" data-file-width=\"900\" decoding=\"async\" height=\"15\" src=\"//upload.wikimedia.org/wikipedia/commons/thumb/f/fa/Flag_of_the_People%27s_Republic_of_China.svg/23px-Flag_of_the_People%27s_Republic_of_China.svg.png\" srcset=\"//upload.wikimedia.org/wikipedia/commons/thumb/f/fa/Flag_of_the_People%27s_Republic_of_China.svg/35px-Flag_of_the_People%27s_Republic_of_China.svg.png 1.5x, //upload.wikimedia.org/wikipedia/commons/thumb/f/fa/Flag_of_the_People%27s_Republic_of_China.svg/45px-Flag_of_the_People%27s_Republic_of_China.svg.png 2x\" width=\"23\"/></a></span> <a href=\"/wiki/Shanghai_Pudong_Development_Bank\" title=\"Shanghai Pudong Development Bank\">Shanghai Pudong Development Bank</a>\n",
      "</td>\n",
      "<td>58.796\n",
      "</td></tr>, <tr>\n",
      "<td>40\n",
      "</td>\n",
      "<td><span class=\"flagicon\"><a href=\"/wiki/China\" title=\"China\"><img alt=\"China\" class=\"thumbborder\" data-file-height=\"600\" data-file-width=\"900\" decoding=\"async\" height=\"15\" src=\"//upload.wikimedia.org/wikipedia/commons/thumb/f/fa/Flag_of_the_People%27s_Republic_of_China.svg/23px-Flag_of_the_People%27s_Republic_of_China.svg.png\" srcset=\"//upload.wikimedia.org/wikipedia/commons/thumb/f/fa/Flag_of_the_People%27s_Republic_of_China.svg/35px-Flag_of_the_People%27s_Republic_of_China.svg.png 1.5x, //upload.wikimedia.org/wikipedia/commons/thumb/f/fa/Flag_of_the_People%27s_Republic_of_China.svg/45px-Flag_of_the_People%27s_Republic_of_China.svg.png 2x\" width=\"23\"/></a></span> <a href=\"/wiki/Industrial_Bank_(China)\" title=\"Industrial Bank (China)\">Industrial Bank (China)</a>\n",
      "</td>\n",
      "<td>57.388\n",
      "</td></tr>, <tr>\n",
      "<td>41\n",
      "</td>\n",
      "<td><span class=\"flagicon\"><a href=\"/wiki/Hong_Kong\" title=\"Hong Kong\"><img alt=\"Hong Kong\" class=\"thumbborder\" data-file-height=\"600\" data-file-width=\"900\" decoding=\"async\" height=\"15\" src=\"//upload.wikimedia.org/wikipedia/commons/thumb/5/5b/Flag_of_Hong_Kong.svg/23px-Flag_of_Hong_Kong.svg.png\" srcset=\"//upload.wikimedia.org/wikipedia/commons/thumb/5/5b/Flag_of_Hong_Kong.svg/35px-Flag_of_Hong_Kong.svg.png 1.5x, //upload.wikimedia.org/wikipedia/commons/thumb/5/5b/Flag_of_Hong_Kong.svg/45px-Flag_of_Hong_Kong.svg.png 2x\" width=\"23\"/></a></span> <a href=\"/wiki/Bank_of_China_(Hong_Kong)\" title=\"Bank of China (Hong Kong)\">Bank of China (Hong Kong)</a>\n",
      "</td>\n",
      "<td>55.449\n",
      "</td></tr>, <tr>\n",
      "<td>42\n",
      "</td>\n",
      "<td><span class=\"flagicon\"><a href=\"/wiki/Canada\" title=\"Canada\"><img alt=\"Canada\" class=\"thumbborder\" data-file-height=\"600\" data-file-width=\"1200\" decoding=\"async\" height=\"12\" src=\"//upload.wikimedia.org/wikipedia/commons/thumb/d/d9/Flag_of_Canada_%28Pantone%29.svg/23px-Flag_of_Canada_%28Pantone%29.svg.png\" srcset=\"//upload.wikimedia.org/wikipedia/commons/thumb/d/d9/Flag_of_Canada_%28Pantone%29.svg/35px-Flag_of_Canada_%28Pantone%29.svg.png 1.5x, //upload.wikimedia.org/wikipedia/commons/thumb/d/d9/Flag_of_Canada_%28Pantone%29.svg/46px-Flag_of_Canada_%28Pantone%29.svg.png 2x\" width=\"23\"/></a></span> <a href=\"/wiki/Bank_of_Montreal\" title=\"Bank of Montreal\">Bank of Montreal</a>\n",
      "</td>\n",
      "<td>53.181\n",
      "</td></tr>, <tr>\n",
      "<td>43\n",
      "</td>\n",
      "<td><span class=\"flagicon\"><a href=\"/wiki/France\" title=\"France\"><img alt=\"France\" class=\"thumbborder\" data-file-height=\"600\" data-file-width=\"900\" decoding=\"async\" height=\"15\" src=\"//upload.wikimedia.org/wikipedia/en/thumb/c/c3/Flag_of_France.svg/23px-Flag_of_France.svg.png\" srcset=\"//upload.wikimedia.org/wikipedia/en/thumb/c/c3/Flag_of_France.svg/35px-Flag_of_France.svg.png 1.5x, //upload.wikimedia.org/wikipedia/en/thumb/c/c3/Flag_of_France.svg/45px-Flag_of_France.svg.png 2x\" width=\"23\"/></a></span> <a href=\"/wiki/Cr%C3%A9dit_Agricole\" title=\"Crédit Agricole\">Crédit Agricole</a>\n",
      "</td>\n",
      "<td>52.141\n",
      "</td></tr>, <tr>\n",
      "<td>44\n",
      "</td>\n",
      "<td><span class=\"flagicon\"><a href=\"/wiki/Singapore\" title=\"Singapore\"><img alt=\"Singapore\" class=\"thumbborder\" data-file-height=\"3456\" data-file-width=\"5184\" decoding=\"async\" height=\"15\" src=\"//upload.wikimedia.org/wikipedia/commons/thumb/4/48/Flag_of_Singapore.svg/23px-Flag_of_Singapore.svg.png\" srcset=\"//upload.wikimedia.org/wikipedia/commons/thumb/4/48/Flag_of_Singapore.svg/35px-Flag_of_Singapore.svg.png 1.5x, //upload.wikimedia.org/wikipedia/commons/thumb/4/48/Flag_of_Singapore.svg/45px-Flag_of_Singapore.svg.png 2x\" width=\"23\"/></a></span> <a href=\"/wiki/DBS_Bank\" title=\"DBS Bank\">DBS Bank</a>\n",
      "</td>\n",
      "<td>51.475\n",
      "</td></tr>, <tr>\n",
      "<td>45\n",
      "</td>\n",
      "<td><span class=\"flagicon\"><a href=\"/wiki/Finland\" title=\"Finland\"><img alt=\"Finland\" class=\"thumbborder\" data-file-height=\"1100\" data-file-width=\"1800\" decoding=\"async\" height=\"14\" src=\"//upload.wikimedia.org/wikipedia/commons/thumb/b/bc/Flag_of_Finland.svg/23px-Flag_of_Finland.svg.png\" srcset=\"//upload.wikimedia.org/wikipedia/commons/thumb/b/bc/Flag_of_Finland.svg/35px-Flag_of_Finland.svg.png 1.5x, //upload.wikimedia.org/wikipedia/commons/thumb/b/bc/Flag_of_Finland.svg/46px-Flag_of_Finland.svg.png 2x\" width=\"23\"/></a></span> <a href=\"/wiki/Nordea\" title=\"Nordea\">Nordea</a>\n",
      "</td>\n",
      "<td>51.185\n",
      "</td></tr>, <tr>\n",
      "<td>46\n",
      "</td>\n",
      "<td><span class=\"flagicon\"><a href=\"/wiki/United_States\" title=\"United States\"><img alt=\"United States\" class=\"thumbborder\" data-file-height=\"650\" data-file-width=\"1235\" decoding=\"async\" height=\"12\" src=\"//upload.wikimedia.org/wikipedia/en/thumb/a/a4/Flag_of_the_United_States.svg/23px-Flag_of_the_United_States.svg.png\" srcset=\"//upload.wikimedia.org/wikipedia/en/thumb/a/a4/Flag_of_the_United_States.svg/35px-Flag_of_the_United_States.svg.png 1.5x, //upload.wikimedia.org/wikipedia/en/thumb/a/a4/Flag_of_the_United_States.svg/46px-Flag_of_the_United_States.svg.png 2x\" width=\"23\"/></a></span> <a href=\"/wiki/Capital_One\" title=\"Capital One\">Capital One</a>\n",
      "</td>\n",
      "<td>51.107\n",
      "</td></tr>, <tr>\n",
      "<td>47\n",
      "</td>\n",
      "<td><span class=\"flagicon\"><a href=\"/wiki/United_Kingdom\" title=\"United Kingdom\"><img alt=\"United Kingdom\" class=\"thumbborder\" data-file-height=\"600\" data-file-width=\"1200\" decoding=\"async\" height=\"12\" src=\"//upload.wikimedia.org/wikipedia/en/thumb/a/ae/Flag_of_the_United_Kingdom.svg/23px-Flag_of_the_United_Kingdom.svg.png\" srcset=\"//upload.wikimedia.org/wikipedia/en/thumb/a/ae/Flag_of_the_United_Kingdom.svg/35px-Flag_of_the_United_Kingdom.svg.png 1.5x, //upload.wikimedia.org/wikipedia/en/thumb/a/ae/Flag_of_the_United_Kingdom.svg/46px-Flag_of_the_United_Kingdom.svg.png 2x\" width=\"23\"/></a></span> <a href=\"/wiki/NatWest_Group\" title=\"NatWest Group\">NatWest Group</a>\n",
      "</td>\n",
      "<td>50.490\n",
      "</td></tr>, <tr>\n",
      "<td>48\n",
      "</td>\n",
      "<td><span class=\"flagicon\"><a href=\"/wiki/Japan\" title=\"Japan\"><img alt=\"Japan\" class=\"thumbborder\" data-file-height=\"600\" data-file-width=\"900\" decoding=\"async\" height=\"15\" src=\"//upload.wikimedia.org/wikipedia/en/thumb/9/9e/Flag_of_Japan.svg/23px-Flag_of_Japan.svg.png\" srcset=\"//upload.wikimedia.org/wikipedia/en/thumb/9/9e/Flag_of_Japan.svg/35px-Flag_of_Japan.svg.png 1.5x, //upload.wikimedia.org/wikipedia/en/thumb/9/9e/Flag_of_Japan.svg/45px-Flag_of_Japan.svg.png 2x\" width=\"23\"/></a></span> <a href=\"/wiki/Mizuho_Financial_Group\" title=\"Mizuho Financial Group\">Mizuho Financial Group</a>\n",
      "</td>\n",
      "<td>50.018\n",
      "</td></tr>, <tr>\n",
      "<td>49\n",
      "</td>\n",
      "<td><span class=\"flagicon\"><a href=\"/wiki/Switzerland\" title=\"Switzerland\"><img alt=\"Switzerland\" class=\"thumbborder\" data-file-height=\"512\" data-file-width=\"512\" decoding=\"async\" height=\"16\" src=\"//upload.wikimedia.org/wikipedia/commons/thumb/f/f3/Flag_of_Switzerland.svg/16px-Flag_of_Switzerland.svg.png\" srcset=\"//upload.wikimedia.org/wikipedia/commons/thumb/f/f3/Flag_of_Switzerland.svg/24px-Flag_of_Switzerland.svg.png 1.5x, //upload.wikimedia.org/wikipedia/commons/thumb/f/f3/Flag_of_Switzerland.svg/32px-Flag_of_Switzerland.svg.png 2x\" width=\"16\"/></a></span> <a href=\"/wiki/Credit_Suisse\" title=\"Credit Suisse\">Credit Suisse</a>\n",
      "</td>\n",
      "<td>48.462\n",
      "</td></tr>, <tr>\n",
      "<td>50\n",
      "</td>\n",
      "<td><span class=\"flagicon\"><a href=\"/wiki/China\" title=\"China\"><img alt=\"China\" class=\"thumbborder\" data-file-height=\"600\" data-file-width=\"900\" decoding=\"async\" height=\"15\" src=\"//upload.wikimedia.org/wikipedia/commons/thumb/f/fa/Flag_of_the_People%27s_Republic_of_China.svg/23px-Flag_of_the_People%27s_Republic_of_China.svg.png\" srcset=\"//upload.wikimedia.org/wikipedia/commons/thumb/f/fa/Flag_of_the_People%27s_Republic_of_China.svg/35px-Flag_of_the_People%27s_Republic_of_China.svg.png 1.5x, //upload.wikimedia.org/wikipedia/commons/thumb/f/fa/Flag_of_the_People%27s_Republic_of_China.svg/45px-Flag_of_the_People%27s_Republic_of_China.svg.png 2x\" width=\"23\"/></a></span> <a href=\"/wiki/Postal_Savings_Bank_of_China\" title=\"Postal Savings Bank of China\">Postal Savings Bank of China</a>\n",
      "</td>\n",
      "<td>47.948\n",
      "</td></tr>, <tr>\n",
      "<td>51\n",
      "</td>\n",
      "<td><span class=\"flagicon\"><a href=\"/wiki/China\" title=\"China\"><img alt=\"China\" class=\"thumbborder\" data-file-height=\"600\" data-file-width=\"900\" decoding=\"async\" height=\"15\" src=\"//upload.wikimedia.org/wikipedia/commons/thumb/f/fa/Flag_of_the_People%27s_Republic_of_China.svg/23px-Flag_of_the_People%27s_Republic_of_China.svg.png\" srcset=\"//upload.wikimedia.org/wikipedia/commons/thumb/f/fa/Flag_of_the_People%27s_Republic_of_China.svg/35px-Flag_of_the_People%27s_Republic_of_China.svg.png 1.5x, //upload.wikimedia.org/wikipedia/commons/thumb/f/fa/Flag_of_the_People%27s_Republic_of_China.svg/45px-Flag_of_the_People%27s_Republic_of_China.svg.png 2x\" width=\"23\"/></a></span> <a href=\"/wiki/China_Minsheng_Bank\" title=\"China Minsheng Bank\">China Minsheng Bank</a>\n",
      "</td>\n",
      "<td>47.921\n",
      "</td></tr>, <tr>\n",
      "<td>52\n",
      "</td>\n",
      "<td><span class=\"flagicon\"><a href=\"/wiki/Italy\" title=\"Italy\"><img alt=\"Italy\" class=\"thumbborder\" data-file-height=\"1000\" data-file-width=\"1500\" decoding=\"async\" height=\"15\" src=\"//upload.wikimedia.org/wikipedia/en/thumb/0/03/Flag_of_Italy.svg/23px-Flag_of_Italy.svg.png\" srcset=\"//upload.wikimedia.org/wikipedia/en/thumb/0/03/Flag_of_Italy.svg/35px-Flag_of_Italy.svg.png 1.5x, //upload.wikimedia.org/wikipedia/en/thumb/0/03/Flag_of_Italy.svg/45px-Flag_of_Italy.svg.png 2x\" width=\"23\"/></a></span> <a href=\"/wiki/UniCredit\" title=\"UniCredit\">UniCredit</a>\n",
      "</td>\n",
      "<td>47.777\n",
      "</td></tr>, <tr>\n",
      "<td>53\n",
      "</td>\n",
      "<td><span class=\"flagicon\"><a href=\"/wiki/China\" title=\"China\"><img alt=\"China\" class=\"thumbborder\" data-file-height=\"600\" data-file-width=\"900\" decoding=\"async\" height=\"15\" src=\"//upload.wikimedia.org/wikipedia/commons/thumb/f/fa/Flag_of_the_People%27s_Republic_of_China.svg/23px-Flag_of_the_People%27s_Republic_of_China.svg.png\" srcset=\"//upload.wikimedia.org/wikipedia/commons/thumb/f/fa/Flag_of_the_People%27s_Republic_of_China.svg/35px-Flag_of_the_People%27s_Republic_of_China.svg.png 1.5x, //upload.wikimedia.org/wikipedia/commons/thumb/f/fa/Flag_of_the_People%27s_Republic_of_China.svg/45px-Flag_of_the_People%27s_Republic_of_China.svg.png 2x\" width=\"23\"/></a></span> <a href=\"/wiki/China_CITIC_Bank\" title=\"China CITIC Bank\">China CITIC Bank</a>\n",
      "</td>\n",
      "<td>47.451\n",
      "</td></tr>, <tr>\n",
      "<td>54\n",
      "</td>\n",
      "<td><span class=\"flagicon\"><a href=\"/wiki/Hong_Kong\" title=\"Hong Kong\"><img alt=\"Hong Kong\" class=\"thumbborder\" data-file-height=\"600\" data-file-width=\"900\" decoding=\"async\" height=\"15\" src=\"//upload.wikimedia.org/wikipedia/commons/thumb/5/5b/Flag_of_Hong_Kong.svg/23px-Flag_of_Hong_Kong.svg.png\" srcset=\"//upload.wikimedia.org/wikipedia/commons/thumb/5/5b/Flag_of_Hong_Kong.svg/35px-Flag_of_Hong_Kong.svg.png 1.5x, //upload.wikimedia.org/wikipedia/commons/thumb/5/5b/Flag_of_Hong_Kong.svg/45px-Flag_of_Hong_Kong.svg.png 2x\" width=\"23\"/></a></span> <a href=\"/wiki/Hang_Seng_Bank\" title=\"Hang Seng Bank\">Hang Seng Bank</a>\n",
      "</td>\n",
      "<td>46.171\n",
      "</td></tr>, <tr>\n",
      "<td>55\n",
      "</td>\n",
      "<td><span class=\"flagicon\"><a href=\"/wiki/France\" title=\"France\"><img alt=\"France\" class=\"thumbborder\" data-file-height=\"600\" data-file-width=\"900\" decoding=\"async\" height=\"15\" src=\"//upload.wikimedia.org/wikipedia/en/thumb/c/c3/Flag_of_France.svg/23px-Flag_of_France.svg.png\" srcset=\"//upload.wikimedia.org/wikipedia/en/thumb/c/c3/Flag_of_France.svg/35px-Flag_of_France.svg.png 1.5x, //upload.wikimedia.org/wikipedia/en/thumb/c/c3/Flag_of_France.svg/45px-Flag_of_France.svg.png 2x\" width=\"23\"/></a></span> <a href=\"/wiki/Soci%C3%A9t%C3%A9_G%C3%A9n%C3%A9rale\" title=\"Société Générale\">Société Générale</a>\n",
      "</td>\n",
      "<td>46.051\n",
      "</td></tr>, <tr>\n",
      "<td>56\n",
      "</td>\n",
      "<td><span class=\"flagicon\"><a href=\"/wiki/United_Kingdom\" title=\"United Kingdom\"><img alt=\"United Kingdom\" class=\"thumbborder\" data-file-height=\"600\" data-file-width=\"1200\" decoding=\"async\" height=\"12\" src=\"//upload.wikimedia.org/wikipedia/en/thumb/a/ae/Flag_of_the_United_Kingdom.svg/23px-Flag_of_the_United_Kingdom.svg.png\" srcset=\"//upload.wikimedia.org/wikipedia/en/thumb/a/ae/Flag_of_the_United_Kingdom.svg/35px-Flag_of_the_United_Kingdom.svg.png 1.5x, //upload.wikimedia.org/wikipedia/en/thumb/a/ae/Flag_of_the_United_Kingdom.svg/46px-Flag_of_the_United_Kingdom.svg.png 2x\" width=\"23\"/></a></span> <a href=\"/wiki/Barclays\" title=\"Barclays\">Barclays</a>\n",
      "</td>\n",
      "<td>45.850\n",
      "</td></tr>, <tr>\n",
      "<td>57\n",
      "</td>\n",
      "<td><span class=\"flagicon\"><a href=\"/wiki/Canada\" title=\"Canada\"><img alt=\"Canada\" class=\"thumbborder\" data-file-height=\"600\" data-file-width=\"1200\" decoding=\"async\" height=\"12\" src=\"//upload.wikimedia.org/wikipedia/commons/thumb/d/d9/Flag_of_Canada_%28Pantone%29.svg/23px-Flag_of_Canada_%28Pantone%29.svg.png\" srcset=\"//upload.wikimedia.org/wikipedia/commons/thumb/d/d9/Flag_of_Canada_%28Pantone%29.svg/35px-Flag_of_Canada_%28Pantone%29.svg.png 1.5x, //upload.wikimedia.org/wikipedia/commons/thumb/d/d9/Flag_of_Canada_%28Pantone%29.svg/46px-Flag_of_Canada_%28Pantone%29.svg.png 2x\" width=\"23\"/></a></span> <a href=\"/wiki/Canadian_Imperial_Bank_of_Commerce\" title=\"Canadian Imperial Bank of Commerce\">Canadian Imperial Bank of Commerce</a>\n",
      "</td>\n",
      "<td>43.544\n",
      "</td></tr>, <tr>\n",
      "<td>58\n",
      "</td>\n",
      "<td><span class=\"flagicon\"><a href=\"/wiki/Indonesia\" title=\"Indonesia\"><img alt=\"Indonesia\" class=\"thumbborder\" data-file-height=\"600\" data-file-width=\"900\" decoding=\"async\" height=\"15\" src=\"//upload.wikimedia.org/wikipedia/commons/thumb/9/9f/Flag_of_Indonesia.svg/23px-Flag_of_Indonesia.svg.png\" srcset=\"//upload.wikimedia.org/wikipedia/commons/thumb/9/9f/Flag_of_Indonesia.svg/35px-Flag_of_Indonesia.svg.png 1.5x, //upload.wikimedia.org/wikipedia/commons/thumb/9/9f/Flag_of_Indonesia.svg/45px-Flag_of_Indonesia.svg.png 2x\" width=\"23\"/></a></span> <a href=\"/wiki/Bank_Central_Asia\" title=\"Bank Central Asia\">Bank Central Asia</a>\n",
      "</td>\n",
      "<td>43.344\n",
      "</td></tr>, <tr>\n",
      "<td>59\n",
      "</td>\n",
      "<td><span class=\"flagicon\"><a href=\"/wiki/United_States\" title=\"United States\"><img alt=\"United States\" class=\"thumbborder\" data-file-height=\"650\" data-file-width=\"1235\" decoding=\"async\" height=\"12\" src=\"//upload.wikimedia.org/wikipedia/en/thumb/a/a4/Flag_of_the_United_States.svg/23px-Flag_of_the_United_States.svg.png\" srcset=\"//upload.wikimedia.org/wikipedia/en/thumb/a/a4/Flag_of_the_United_States.svg/35px-Flag_of_the_United_States.svg.png 1.5x, //upload.wikimedia.org/wikipedia/en/thumb/a/a4/Flag_of_the_United_States.svg/46px-Flag_of_the_United_States.svg.png 2x\" width=\"23\"/></a></span> <a href=\"/wiki/Truist_Financial\" title=\"Truist Financial\">Truist Financial</a>\n",
      "</td>\n",
      "<td>41.923\n",
      "</td></tr>, <tr>\n",
      "<td>60\n",
      "</td>\n",
      "<td><span class=\"flagicon\"><a href=\"/wiki/Singapore\" title=\"Singapore\"><img alt=\"Singapore\" class=\"thumbborder\" data-file-height=\"3456\" data-file-width=\"5184\" decoding=\"async\" height=\"15\" src=\"//upload.wikimedia.org/wikipedia/commons/thumb/4/48/Flag_of_Singapore.svg/23px-Flag_of_Singapore.svg.png\" srcset=\"//upload.wikimedia.org/wikipedia/commons/thumb/4/48/Flag_of_Singapore.svg/35px-Flag_of_Singapore.svg.png 1.5x, //upload.wikimedia.org/wikipedia/commons/thumb/4/48/Flag_of_Singapore.svg/45px-Flag_of_Singapore.svg.png 2x\" width=\"23\"/></a></span> <a href=\"/wiki/OCBC_Bank\" title=\"OCBC Bank\">Oversea-Chinese Banking Corp</a>\n",
      "</td>\n",
      "<td>41.362\n",
      "</td></tr>, <tr>\n",
      "<td>61\n",
      "</td>\n",
      "<td><span class=\"flagicon\"><a href=\"/wiki/India\" title=\"India\"><img alt=\"India\" class=\"thumbborder\" data-file-height=\"900\" data-file-width=\"1350\" decoding=\"async\" height=\"15\" src=\"//upload.wikimedia.org/wikipedia/en/thumb/4/41/Flag_of_India.svg/23px-Flag_of_India.svg.png\" srcset=\"//upload.wikimedia.org/wikipedia/en/thumb/4/41/Flag_of_India.svg/35px-Flag_of_India.svg.png 1.5x, //upload.wikimedia.org/wikipedia/en/thumb/4/41/Flag_of_India.svg/45px-Flag_of_India.svg.png 2x\" width=\"23\"/></a></span> <a href=\"/wiki/State_Bank_of_India\" title=\"State Bank of India\">State Bank of India</a>\n",
      "</td>\n",
      "<td>40.562\n",
      "</td></tr>, <tr>\n",
      "<td>62\n",
      "</td>\n",
      "<td><span class=\"flagicon\"><a href=\"/wiki/United_States\" title=\"United States\"><img alt=\"United States\" class=\"thumbborder\" data-file-height=\"650\" data-file-width=\"1235\" decoding=\"async\" height=\"12\" src=\"//upload.wikimedia.org/wikipedia/en/thumb/a/a4/Flag_of_the_United_States.svg/23px-Flag_of_the_United_States.svg.png\" srcset=\"//upload.wikimedia.org/wikipedia/en/thumb/a/a4/Flag_of_the_United_States.svg/35px-Flag_of_the_United_States.svg.png 1.5x, //upload.wikimedia.org/wikipedia/en/thumb/a/a4/Flag_of_the_United_States.svg/46px-Flag_of_the_United_States.svg.png 2x\" width=\"23\"/></a></span> <a href=\"/wiki/State_Street_Bank_and_Trust_Company\" title=\"State Street Bank and Trust Company\">State Street</a>\n",
      "</td>\n",
      "<td>39.769\n",
      "</td></tr>, <tr>\n",
      "<td>63\n",
      "</td>\n",
      "<td><span class=\"flagicon\"><a href=\"/wiki/Germany\" title=\"Germany\"><img alt=\"Germany\" class=\"thumbborder\" data-file-height=\"600\" data-file-width=\"1000\" decoding=\"async\" height=\"14\" src=\"//upload.wikimedia.org/wikipedia/en/thumb/b/ba/Flag_of_Germany.svg/23px-Flag_of_Germany.svg.png\" srcset=\"//upload.wikimedia.org/wikipedia/en/thumb/b/ba/Flag_of_Germany.svg/35px-Flag_of_Germany.svg.png 1.5x, //upload.wikimedia.org/wikipedia/en/thumb/b/ba/Flag_of_Germany.svg/46px-Flag_of_Germany.svg.png 2x\" width=\"23\"/></a></span> <a href=\"/wiki/Deutsche_Bank\" title=\"Deutsche Bank\">Deutsche Bank</a>\n",
      "</td>\n",
      "<td>38.649\n",
      "</td></tr>, <tr>\n",
      "<td>64\n",
      "</td>\n",
      "<td><span class=\"flagicon\"><a href=\"/wiki/Belgium\" title=\"Belgium\"><img alt=\"Belgium\" class=\"thumbborder\" data-file-height=\"600\" data-file-width=\"900\" decoding=\"async\" height=\"15\" src=\"//upload.wikimedia.org/wikipedia/commons/thumb/9/92/Flag_of_Belgium_%28civil%29.svg/23px-Flag_of_Belgium_%28civil%29.svg.png\" srcset=\"//upload.wikimedia.org/wikipedia/commons/thumb/9/92/Flag_of_Belgium_%28civil%29.svg/35px-Flag_of_Belgium_%28civil%29.svg.png 1.5x, //upload.wikimedia.org/wikipedia/commons/thumb/9/92/Flag_of_Belgium_%28civil%29.svg/45px-Flag_of_Belgium_%28civil%29.svg.png 2x\" width=\"23\"/></a></span> <a href=\"/wiki/KBC_Bank\" title=\"KBC Bank\">KBC Bank</a>\n",
      "</td>\n",
      "<td>38.394\n",
      "</td></tr>, <tr>\n",
      "<td>65\n",
      "</td>\n",
      "<td><span class=\"flagicon\"><a href=\"/wiki/Denmark\" title=\"Denmark\"><img alt=\"Denmark\" class=\"thumbborder\" data-file-height=\"387\" data-file-width=\"512\" decoding=\"async\" height=\"15\" src=\"//upload.wikimedia.org/wikipedia/commons/thumb/9/9c/Flag_of_Denmark.svg/20px-Flag_of_Denmark.svg.png\" srcset=\"//upload.wikimedia.org/wikipedia/commons/thumb/9/9c/Flag_of_Denmark.svg/31px-Flag_of_Denmark.svg.png 1.5x, //upload.wikimedia.org/wikipedia/commons/thumb/9/9c/Flag_of_Denmark.svg/40px-Flag_of_Denmark.svg.png 2x\" width=\"20\"/></a></span> <a href=\"/wiki/Danske_Bank\" title=\"Danske Bank\">Danske Bank</a>\n",
      "</td>\n",
      "<td>38.223\n",
      "</td></tr>, <tr>\n",
      "<td>66\n",
      "</td>\n",
      "<td><span class=\"flagicon\"><a href=\"/wiki/China\" title=\"China\"><img alt=\"China\" class=\"thumbborder\" data-file-height=\"600\" data-file-width=\"900\" decoding=\"async\" height=\"15\" src=\"//upload.wikimedia.org/wikipedia/commons/thumb/f/fa/Flag_of_the_People%27s_Republic_of_China.svg/23px-Flag_of_the_People%27s_Republic_of_China.svg.png\" srcset=\"//upload.wikimedia.org/wikipedia/commons/thumb/f/fa/Flag_of_the_People%27s_Republic_of_China.svg/35px-Flag_of_the_People%27s_Republic_of_China.svg.png 1.5x, //upload.wikimedia.org/wikipedia/commons/thumb/f/fa/Flag_of_the_People%27s_Republic_of_China.svg/45px-Flag_of_the_People%27s_Republic_of_China.svg.png 2x\" width=\"23\"/></a></span> <a href=\"/wiki/Ping_An_Bank\" title=\"Ping An Bank\">Ping An Bank</a>\n",
      "</td>\n",
      "<td>37.993\n",
      "</td></tr>, <tr>\n",
      "<td>67\n",
      "</td>\n",
      "<td><span class=\"flagicon\"><a href=\"/wiki/United_Kingdom\" title=\"United Kingdom\"><img alt=\"United Kingdom\" class=\"thumbborder\" data-file-height=\"600\" data-file-width=\"1200\" decoding=\"async\" height=\"12\" src=\"//upload.wikimedia.org/wikipedia/en/thumb/a/ae/Flag_of_the_United_Kingdom.svg/23px-Flag_of_the_United_Kingdom.svg.png\" srcset=\"//upload.wikimedia.org/wikipedia/en/thumb/a/ae/Flag_of_the_United_Kingdom.svg/35px-Flag_of_the_United_Kingdom.svg.png 1.5x, //upload.wikimedia.org/wikipedia/en/thumb/a/ae/Flag_of_the_United_Kingdom.svg/46px-Flag_of_the_United_Kingdom.svg.png 2x\" width=\"23\"/></a></span> <a href=\"/wiki/Standard_Chartered\" title=\"Standard Chartered\">Standard Chartered</a>\n",
      "</td>\n",
      "<td>37.319\n",
      "</td></tr>, <tr>\n",
      "<td>68\n",
      "</td>\n",
      "<td><span class=\"flagicon\"><a href=\"/wiki/Singapore\" title=\"Singapore\"><img alt=\"Singapore\" class=\"thumbborder\" data-file-height=\"3456\" data-file-width=\"5184\" decoding=\"async\" height=\"15\" src=\"//upload.wikimedia.org/wikipedia/commons/thumb/4/48/Flag_of_Singapore.svg/23px-Flag_of_Singapore.svg.png\" srcset=\"//upload.wikimedia.org/wikipedia/commons/thumb/4/48/Flag_of_Singapore.svg/35px-Flag_of_Singapore.svg.png 1.5x, //upload.wikimedia.org/wikipedia/commons/thumb/4/48/Flag_of_Singapore.svg/45px-Flag_of_Singapore.svg.png 2x\" width=\"23\"/></a></span> <a href=\"/wiki/United_Overseas_Bank\" title=\"United Overseas Bank\">United Overseas Bank</a>\n",
      "</td>\n",
      "<td>35.128\n",
      "</td></tr>, <tr>\n",
      "<td>69\n",
      "</td>\n",
      "<td><span class=\"flagicon\"><a href=\"/wiki/Qatar\" title=\"Qatar\"><img alt=\"Qatar\" class=\"thumbborder\" data-file-height=\"550\" data-file-width=\"1400\" decoding=\"async\" height=\"9\" src=\"//upload.wikimedia.org/wikipedia/commons/thumb/6/65/Flag_of_Qatar.svg/23px-Flag_of_Qatar.svg.png\" srcset=\"//upload.wikimedia.org/wikipedia/commons/thumb/6/65/Flag_of_Qatar.svg/35px-Flag_of_Qatar.svg.png 1.5x, //upload.wikimedia.org/wikipedia/commons/thumb/6/65/Flag_of_Qatar.svg/46px-Flag_of_Qatar.svg.png 2x\" width=\"23\"/></a></span> <a href=\"/wiki/QNB_Group\" title=\"QNB Group\">QNB Group</a>\n",
      "</td>\n",
      "<td>33.560\n",
      "</td></tr>, <tr>\n",
      "<td>70\n",
      "</td>\n",
      "<td><span class=\"flagicon\"><a href=\"/wiki/Indonesia\" title=\"Indonesia\"><img alt=\"Indonesia\" class=\"thumbborder\" data-file-height=\"600\" data-file-width=\"900\" decoding=\"async\" height=\"15\" src=\"//upload.wikimedia.org/wikipedia/commons/thumb/9/9f/Flag_of_Indonesia.svg/23px-Flag_of_Indonesia.svg.png\" srcset=\"//upload.wikimedia.org/wikipedia/commons/thumb/9/9f/Flag_of_Indonesia.svg/35px-Flag_of_Indonesia.svg.png 1.5x, //upload.wikimedia.org/wikipedia/commons/thumb/9/9f/Flag_of_Indonesia.svg/45px-Flag_of_Indonesia.svg.png 2x\" width=\"23\"/></a></span> <a href=\"/wiki/Bank_Rakyat_Indonesia\" title=\"Bank Rakyat Indonesia\">Bank Rakyat Indonesia</a>\n",
      "</td>\n",
      "<td>33.081\n",
      "</td></tr>]\n"
     ]
    }
   ],
   "source": [
    "row = soup.find_all('tbody')[3].find_all('tr')\n",
    "print(row)"
   ]
  },
  {
   "cell_type": "code",
   "execution_count": 9,
   "metadata": {},
   "outputs": [
    {
     "ename": "AttributeError",
     "evalue": "ResultSet object has no attribute 'text'. You're probably treating a list of elements like a single element. Did you call find_all() when you meant to call find()?",
     "output_type": "error",
     "traceback": [
      "\u001b[1;31m---------------------------------------------------------------------------\u001b[0m",
      "\u001b[1;31mAttributeError\u001b[0m                            Traceback (most recent call last)",
      "\u001b[1;32m<ipython-input-9-d035c70df571>\u001b[0m in \u001b[0;36m<module>\u001b[1;34m\u001b[0m\n\u001b[0;32m      3\u001b[0m \u001b[1;32mfor\u001b[0m \u001b[0mrow\u001b[0m \u001b[1;32min\u001b[0m \u001b[0msoup\u001b[0m\u001b[1;33m.\u001b[0m\u001b[0mfind_all\u001b[0m\u001b[1;33m(\u001b[0m\u001b[1;34m'tbody'\u001b[0m\u001b[1;33m)\u001b[0m\u001b[1;33m[\u001b[0m\u001b[1;36m3\u001b[0m\u001b[1;33m]\u001b[0m\u001b[1;33m.\u001b[0m\u001b[0mfind_all\u001b[0m\u001b[1;33m(\u001b[0m\u001b[1;34m'tr'\u001b[0m\u001b[1;33m)\u001b[0m\u001b[1;33m:\u001b[0m\u001b[1;33m\u001b[0m\u001b[1;33m\u001b[0m\u001b[0m\n\u001b[0;32m      4\u001b[0m     \u001b[0mcol\u001b[0m \u001b[1;33m=\u001b[0m \u001b[0mrow\u001b[0m\u001b[1;33m.\u001b[0m\u001b[0mfind_all\u001b[0m\u001b[1;33m(\u001b[0m\u001b[1;34m'td'\u001b[0m\u001b[1;33m)\u001b[0m\u001b[1;33m\u001b[0m\u001b[1;33m\u001b[0m\u001b[0m\n\u001b[1;32m----> 5\u001b[1;33m     \u001b[0mdata\u001b[0m\u001b[1;33m.\u001b[0m\u001b[0mappend\u001b[0m\u001b[1;33m(\u001b[0m\u001b[0mcol\u001b[0m\u001b[1;33m.\u001b[0m\u001b[0mtext\u001b[0m\u001b[1;33m.\u001b[0m\u001b[0mstrip\u001b[0m\u001b[1;33m(\u001b[0m\u001b[1;33m)\u001b[0m\u001b[1;33m)\u001b[0m\u001b[1;33m\u001b[0m\u001b[1;33m\u001b[0m\u001b[0m\n\u001b[0m",
      "\u001b[1;32m~\\anaconda3\\lib\\site-packages\\bs4\\element.py\u001b[0m in \u001b[0;36m__getattr__\u001b[1;34m(self, key)\u001b[0m\n\u001b[0;32m   2171\u001b[0m     \u001b[1;32mdef\u001b[0m \u001b[0m__getattr__\u001b[0m\u001b[1;33m(\u001b[0m\u001b[0mself\u001b[0m\u001b[1;33m,\u001b[0m \u001b[0mkey\u001b[0m\u001b[1;33m)\u001b[0m\u001b[1;33m:\u001b[0m\u001b[1;33m\u001b[0m\u001b[1;33m\u001b[0m\u001b[0m\n\u001b[0;32m   2172\u001b[0m         \u001b[1;34m\"\"\"Raise a helpful exception to explain a common code fix.\"\"\"\u001b[0m\u001b[1;33m\u001b[0m\u001b[1;33m\u001b[0m\u001b[0m\n\u001b[1;32m-> 2173\u001b[1;33m         raise AttributeError(\n\u001b[0m\u001b[0;32m   2174\u001b[0m             \u001b[1;34m\"ResultSet object has no attribute '%s'. You're probably treating a list of elements like a single element. Did you call find_all() when you meant to call find()?\"\u001b[0m \u001b[1;33m%\u001b[0m \u001b[0mkey\u001b[0m\u001b[1;33m\u001b[0m\u001b[1;33m\u001b[0m\u001b[0m\n\u001b[0;32m   2175\u001b[0m         )\n",
      "\u001b[1;31mAttributeError\u001b[0m: ResultSet object has no attribute 'text'. You're probably treating a list of elements like a single element. Did you call find_all() when you meant to call find()?"
     ]
    }
   ],
   "source": [
    "data = pd.DataFrame(columns=[\"Name\", \"Market Cap (US$ Billion)\"])\n",
    "\n",
    "for row in soup.find_all('tbody')[3].find_all('tr'):\n",
    "    col = row.find_all('td')\n",
    "    data.append(col.text.strip())"
   ]
  },
  {
   "cell_type": "markdown",
   "metadata": {},
   "source": [
    "**Question 3** Display the first five rows using the `head` function.\n"
   ]
  },
  {
   "cell_type": "code",
   "execution_count": null,
   "metadata": {},
   "outputs": [],
   "source": [
    "#Write your code here\n"
   ]
  },
  {
   "cell_type": "markdown",
   "metadata": {},
   "source": [
    "### Loading the Data\n",
    "\n",
    "Usually you will Load the `pandas` dataframe created above into a JSON named `bank_market_cap.json` using the `to_json()` function, but this time the data will be sent to another team who will split the data file into two files and inspect it. If you save the data it will interfere with the next part of the assignment.\n"
   ]
  },
  {
   "cell_type": "code",
   "execution_count": null,
   "metadata": {},
   "outputs": [],
   "source": [
    "#Write your code here\n"
   ]
  },
  {
   "cell_type": "markdown",
   "metadata": {},
   "source": [
    "## Authors\n"
   ]
  },
  {
   "cell_type": "markdown",
   "metadata": {},
   "source": [
    "Ramesh Sannareddy, Joseph Santarcangelo and Azim Hirjani\n"
   ]
  },
  {
   "cell_type": "markdown",
   "metadata": {},
   "source": [
    "### Other Contributors\n"
   ]
  },
  {
   "cell_type": "markdown",
   "metadata": {},
   "source": [
    "Rav Ahuja\n"
   ]
  },
  {
   "cell_type": "markdown",
   "metadata": {},
   "source": [
    "## Change Log\n"
   ]
  },
  {
   "cell_type": "markdown",
   "metadata": {},
   "source": [
    "| Date (YYYY-MM-DD) | Version | Changed By        | Change Description                 |\n",
    "| ----------------- | ------- | ----------------- | ---------------------------------- |\n",
    "| 2020-11-25        | 0.1     | Ramesh Sannareddy | Created initial version of the lab |\n"
   ]
  },
  {
   "cell_type": "markdown",
   "metadata": {},
   "source": [
    "Copyright © 2020 IBM Corporation.\n"
   ]
  }
 ],
 "metadata": {
  "kernelspec": {
   "display_name": "Python 3",
   "language": "python",
   "name": "python3"
  },
  "language_info": {
   "codemirror_mode": {
    "name": "ipython",
    "version": 3
   },
   "file_extension": ".py",
   "mimetype": "text/x-python",
   "name": "python",
   "nbconvert_exporter": "python",
   "pygments_lexer": "ipython3",
   "version": "3.8.8"
  }
 },
 "nbformat": 4,
 "nbformat_minor": 4
}
